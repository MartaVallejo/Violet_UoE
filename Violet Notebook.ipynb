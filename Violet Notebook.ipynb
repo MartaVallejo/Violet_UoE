{
 "cells": [
  {
   "cell_type": "markdown",
   "id": "baking-server",
   "metadata": {},
   "source": [
    "# Jupyter Notebook for R\n",
    "This is the environment I am goi"
   ]
  }
 ],
 "metadata": {
  "kernelspec": {
   "display_name": "R",
   "language": "R",
   "name": "ir"
  },
  "language_info": {
   "codemirror_mode": "r",
   "file_extension": ".r",
   "mimetype": "text/x-r-source",
   "name": "R",
   "pygments_lexer": "r",
   "version": "3.6.1"
  }
 },
 "nbformat": 4,
 "nbformat_minor": 5
}
