{
 "cells": [
  {
   "cell_type": "markdown",
   "id": "baking-server",
   "metadata": {},
   "source": [
    "# Jupyter Notebook for R\n",
    "This is the environment I am going to use to create the different plots."
   ]
  },
  {
   "cell_type": "markdown",
   "id": "9f1a7b89",
   "metadata": {},
   "source": [
    "## Graph 1\n",
    "![title](images/Graph_01.jpg)"
   ]
  },
  {
   "cell_type": "code",
   "execution_count": 1,
   "id": "a0ea5759",
   "metadata": {},
   "outputs": [],
   "source": [
    "# Import the data and look at the first six rows\n",
    "indivData <- read.csv(file = 'data/Attempts_records.csv')\n",
    "# head(indivData)"
   ]
  },
  {
   "cell_type": "code",
   "execution_count": 2,
   "id": "e5ebbcce",
   "metadata": {},
   "outputs": [],
   "source": [
    "# Transform the data\n",
    "# Participant 1\n",
    "levels(indivData$Participant.1)[levels(indivData$Participant.1)==\"NBNF\"] <- 1\n",
    "levels(indivData$Participant.1)[levels(indivData$Participant.1)==\"B\"] <- 0\n",
    "levels(indivData$Participant.1)[levels(indivData$Participant.1)==\"F\"] <- 0\n",
    "# Participant 2\n",
    "levels(indivData$Participant.2)[levels(indivData$Participant.2)==\"NBNF\"] <- 1\n",
    "levels(indivData$Participant.2)[levels(indivData$Participant.2)==\"B\"] <- 0\n",
    "levels(indivData$Participant.2)[levels(indivData$Participant.2)==\"F\"] <- 0\n",
    "# Participant 3\n",
    "levels(indivData$Participant.3)[levels(indivData$Participant.3)==\"NBNF\"] <- 1\n",
    "levels(indivData$Participant.3)[levels(indivData$Participant.3)==\"B\"] <- 0\n",
    "levels(indivData$Participant.3)[levels(indivData$Participant.3)==\"F\"] <- 0\n",
    "# Participant 4\n",
    "levels(indivData$Participant.4)[levels(indivData$Participant.4)==\"NBNF\"] <- 1\n",
    "levels(indivData$Participant.4)[levels(indivData$Participant.4)==\"B\"] <- 0\n",
    "levels(indivData$Participant.4)[levels(indivData$Participant.4)==\"F\"] <- 0\n",
    "# Participant 5\n",
    "levels(indivData$Participant.5)[levels(indivData$Participant.5)==\"NBNF\"] <- 1\n",
    "levels(indivData$Participant.5)[levels(indivData$Participant.5)==\"B\"] <- 0\n",
    "levels(indivData$Participant.5)[levels(indivData$Participant.5)==\"F\"] <- 0\n",
    "# TODO this can be converted to a loop and it would not require to add new lines for new participants"
   ]
  },
  {
   "cell_type": "code",
   "execution_count": 3,
   "id": "e1288960",
   "metadata": {},
   "outputs": [],
   "source": [
    "# Selecting each of the subset of data\n",
    "v_normal <- indivData[c(3:17),c(2:6)]\n",
    "v_strong <- indivData[c(19:33),c(2:6)]\n",
    "v_weak <- indivData[c(35:49),c(2:6)]\n",
    "# v_normal\n",
    "# v_strong\n",
    "# v_weak\n",
    "vh_normal <- indivData[c(52:66),c(2:6)]\n",
    "vh_strong <- indivData[c(68:82),c(2:6)]\n",
    "vh_weak <- indivData[c(84:98),c(2:6)]\n",
    "# vh_normal\n",
    "# vh_strong\n",
    "# vh_weak\n",
    "h_normal <- indivData[c(101:115),c(2:6)]\n",
    "h_strong <- indivData[c(117:131),c(2:6)]\n",
    "h_weak <- indivData[c(133:147),c(2:6)]\n",
    "# h_normal\n",
    "# h_strong\n",
    "# h_weak"
   ]
  },
  {
   "cell_type": "code",
   "execution_count": 4,
   "id": "44db53d1",
   "metadata": {},
   "outputs": [],
   "source": [
    "# Sum the positive cases for V in a new vector called df_t1\n",
    "df_t1 <- matrix(, 3, ncol(v_normal))\n",
    "# TASK 1\n",
    "num <- 1\n",
    "for(i in names(v_normal)){\n",
    "    df_t1[1,num] <- sum(as.numeric(as.character(v_normal[[i]])))\n",
    "    num <- num + 1\n",
    "}\n",
    "# TASK 2\n",
    "num <- 1\n",
    "for(i in names(v_strong)){\n",
    "    df_t1[2,num] <- sum(as.numeric(as.character(v_strong[[i]])))\n",
    "    num <- num + 1\n",
    "}\n",
    "# TASK 3\n",
    "num <- 1\n",
    "for(i in names(v_weak)){\n",
    "    df_t1[3,num] <- sum(as.numeric(as.character(v_weak[[i]])))\n",
    "    num <- num + 1\n",
    "}\n",
    "# df_t1"
   ]
  },
  {
   "cell_type": "code",
   "execution_count": 5,
   "id": "c64e1dc6",
   "metadata": {},
   "outputs": [
    {
     "data": {
      "text/html": [
       "<table>\n",
       "<tbody>\n",
       "\t<tr><td>15</td><td>15</td><td>15</td><td>15</td><td>15</td></tr>\n",
       "\t<tr><td>12</td><td>12</td><td>12</td><td>12</td><td>12</td></tr>\n",
       "\t<tr><td>15</td><td>15</td><td>15</td><td>15</td><td>15</td></tr>\n",
       "</tbody>\n",
       "</table>\n"
      ],
      "text/latex": [
       "\\begin{tabular}{lllll}\n",
       "\t 15 & 15 & 15 & 15 & 15\\\\\n",
       "\t 12 & 12 & 12 & 12 & 12\\\\\n",
       "\t 15 & 15 & 15 & 15 & 15\\\\\n",
       "\\end{tabular}\n"
      ],
      "text/markdown": [
       "\n",
       "| 15 | 15 | 15 | 15 | 15 |\n",
       "| 12 | 12 | 12 | 12 | 12 |\n",
       "| 15 | 15 | 15 | 15 | 15 |\n",
       "\n"
      ],
      "text/plain": [
       "     [,1] [,2] [,3] [,4] [,5]\n",
       "[1,] 15   15   15   15   15  \n",
       "[2,] 12   12   12   12   12  \n",
       "[3,] 15   15   15   15   15  "
      ]
     },
     "metadata": {},
     "output_type": "display_data"
    }
   ],
   "source": [
    "# Sum the positive cases for V+H in a new vector called df_t2\n",
    "df_t2 <- matrix(, 3, ncol(vh_normal))\n",
    "# TASK 1\n",
    "num <- 1\n",
    "for(i in names(vh_normal)){\n",
    "    df_t2[1,num] <- sum(as.numeric(as.character(vh_normal[[i]])))\n",
    "    num <- num + 1\n",
    "}\n",
    "# TASK 2\n",
    "num <- 1\n",
    "for(i in names(vh_strong)){\n",
    "    df_t2[2,num] <- sum(as.numeric(as.character(vh_strong[[i]])))\n",
    "    num <- num + 1\n",
    "}\n",
    "# TASK 3\n",
    "num <- 1\n",
    "for(i in names(vh_weak)){\n",
    "    df_t2[3,num] <- sum(as.numeric(as.character(vh_weak[[i]])))\n",
    "    num <- num + 1\n",
    "}\n",
    "# df_t2"
   ]
  },
  {
   "cell_type": "code",
   "execution_count": 15,
   "id": "ab0b75ad",
   "metadata": {},
   "outputs": [
    {
     "data": {
      "text/html": [
       "<table>\n",
       "<tbody>\n",
       "\t<tr><td>15</td><td>15</td><td>15</td><td>15</td><td>15</td></tr>\n",
       "\t<tr><td>14</td><td>14</td><td>14</td><td>14</td><td>14</td></tr>\n",
       "\t<tr><td>15</td><td>15</td><td>15</td><td>15</td><td>15</td></tr>\n",
       "</tbody>\n",
       "</table>\n"
      ],
      "text/latex": [
       "\\begin{tabular}{lllll}\n",
       "\t 15 & 15 & 15 & 15 & 15\\\\\n",
       "\t 14 & 14 & 14 & 14 & 14\\\\\n",
       "\t 15 & 15 & 15 & 15 & 15\\\\\n",
       "\\end{tabular}\n"
      ],
      "text/markdown": [
       "\n",
       "| 15 | 15 | 15 | 15 | 15 |\n",
       "| 14 | 14 | 14 | 14 | 14 |\n",
       "| 15 | 15 | 15 | 15 | 15 |\n",
       "\n"
      ],
      "text/plain": [
       "     [,1] [,2] [,3] [,4] [,5]\n",
       "[1,] 15   15   15   15   15  \n",
       "[2,] 14   14   14   14   14  \n",
       "[3,] 15   15   15   15   15  "
      ]
     },
     "metadata": {},
     "output_type": "display_data"
    }
   ],
   "source": [
    "# Sum the positive cases for H in a new vector called df_t3\n",
    "df_t3 <- matrix(, 3, ncol(h_normal))\n",
    "# TASK 1\n",
    "num <- 1\n",
    "for(i in names(h_normal)){\n",
    "    df_t3[1,num] <- sum(as.numeric(as.character(h_normal[[i]])))\n",
    "    num <- num + 1\n",
    "}\n",
    "# TASK 2\n",
    "num <- 1\n",
    "for(i in names(h_strong)){\n",
    "    df_t3[2,num] <- sum(as.numeric(as.character(h_strong[[i]])))\n",
    "    num <- num + 1\n",
    "}\n",
    "# TASK 3\n",
    "num <- 1\n",
    "for(i in names(h_weak)){\n",
    "    df_t3[3,num] <- sum(as.numeric(as.character(h_weak[[i]])))\n",
    "    num <- num + 1\n",
    "}\n",
    "# df_t3"
   ]
  },
  {
   "cell_type": "code",
   "execution_count": 17,
   "id": "e526f9c0",
   "metadata": {},
   "outputs": [
    {
     "data": {
      "text/html": [
       "<ol class=list-inline>\n",
       "\t<li>0</li>\n",
       "\t<li>1.4638501094228</li>\n",
       "\t<li>0.487950036474267</li>\n",
       "</ol>\n"
      ],
      "text/latex": [
       "\\begin{enumerate*}\n",
       "\\item 0\n",
       "\\item 1.4638501094228\n",
       "\\item 0.487950036474267\n",
       "\\end{enumerate*}\n"
      ],
      "text/markdown": [
       "1. 0\n",
       "2. 1.4638501094228\n",
       "3. 0.487950036474267\n",
       "\n",
       "\n"
      ],
      "text/plain": [
       "[1] 0.00000 1.46385 0.48795"
      ]
     },
     "metadata": {},
     "output_type": "display_data"
    }
   ],
   "source": [
    "df <- c(rowMeans(df_t1), rowMeans(df_t2),rowMeans(df_t3))\n",
    "std <- c(sd(df_t1), sd(df_t2),sd(df_t3))\n",
    "std"
   ]
  },
  {
   "cell_type": "code",
   "execution_count": 12,
   "id": "2dcb498f",
   "metadata": {},
   "outputs": [
    {
     "name": "stderr",
     "output_type": "stream",
     "text": [
      "Registered S3 methods overwritten by 'ggplot2':\n",
      "  method         from \n",
      "  [.quosures     rlang\n",
      "  c.quosures     rlang\n",
      "  print.quosures rlang\n"
     ]
    }
   ],
   "source": [
    "# First time I needed to use the library, I had to load it\n",
    " library(ggplot2)"
   ]
  },
  {
   "cell_type": "code",
   "execution_count": 34,
   "id": "7e2ad0ce",
   "metadata": {},
   "outputs": [
    {
     "data": {
      "image/png": "[encoded data removed]",
      "text/plain": [
       "plot without title"
      ]
     },
     "metadata": {},
     "output_type": "display_data"
    }
   ],
   "source": [
    "survey <- data.frame(group=rep(c(\"Task1\", \"Task2\", \"Task3\"),each=3),\n",
    "                     experiment=rep(c(\"V\", \"V+H\", \"H\"),3),\n",
    "                     attempt=df,\n",
    "                     sd=std)\n",
    "survey$experiment = factor(survey$experiment, levels = c(\"V\", \"V+H\", \"H\"), ordered = TRUE)\n",
    "\n",
    "ggplot(survey, aes(x=experiment, y=attempt, fill=group)) + \n",
    "  geom_bar(stat=\"identity\", width=0.7, position=position_dodge(width=0.8)) +\n",
    "  geom_errorbar( aes(x=experiment, ymin=attempt-sd, ymax=attempt+sd), width=0.2, alpha=0.9, position=position_dodge(.8))"
   ]
  },
  {
   "cell_type": "markdown",
   "id": "18190955",
   "metadata": {},
   "source": [
    "## Graph 2\n",
    "![title](images/Graph_02.jpg)"
   ]
  },
  {
   "cell_type": "code",
   "execution_count": null,
   "id": "c8aea8e4",
   "metadata": {},
   "outputs": [],
   "source": [
    "# find all the files whose names ending with ‘xlsx’ or ‘csv’ and store the file location information \n",
    "# into ‘files’ variable.\n",
    "files <- list.files(path = \"data/01\", pattern = \"*.csv\", full.names = T)\n",
    "files"
   ]
  },
  {
   "cell_type": "code",
   "execution_count": null,
   "id": "e8e8f38c",
   "metadata": {},
   "outputs": [],
   "source": [
    "# Read the files one by one and bind them together.\n",
    "tbl <- sapply(files, read_csv, simplify=FALSE) %>% \n",
    "bind_rows(.id = \"id\")"
   ]
  },
  {
   "cell_type": "code",
   "execution_count": null,
   "id": "cultural-painting",
   "metadata": {},
   "outputs": [],
   "source": []
  },
  {
   "cell_type": "markdown",
   "id": "32d78a63",
   "metadata": {},
   "source": [
    "## Graph 3\n",
    "![title](images/Graph_03.jpg)"
   ]
  },
  {
   "cell_type": "code",
   "execution_count": null,
   "id": "0234b1c9",
   "metadata": {},
   "outputs": [],
   "source": []
  }
 ],
 "metadata": {
  "kernelspec": {
   "display_name": "R",
   "language": "R",
   "name": "ir"
  },
  "language_info": {
   "codemirror_mode": "r",
   "file_extension": ".r",
   "mimetype": "text/x-r-source",
   "name": "R",
   "pygments_lexer": "r",
   "version": "3.6.1"
  }
 },
 "nbformat": 4,
 "nbformat_minor": 5
}
