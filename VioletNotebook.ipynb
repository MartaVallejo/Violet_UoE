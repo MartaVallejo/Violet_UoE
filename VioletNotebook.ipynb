{
 "cells": [
  {
   "cell_type": "markdown",
   "id": "baking-server",
   "metadata": {},
   "source": [
    "# Jupyter Notebook for R\n",
    "This is the environment I am going to use to create the different plots."
   ]
  },
  {
   "cell_type": "code",
   "execution_count": null,
   "id": "fourth-encounter",
   "metadata": {},
   "outputs": [],
   "source": [
    "myString <- \"Hello, World!\"\n",
    "print (myString)"
   ]
  },
  {
   "cell_type": "code",
   "execution_count": null,
   "id": "cultural-painting",
   "metadata": {},
   "outputs": [],
   "source": []
  }
 ],
 "metadata": {
  "kernelspec": {
   "display_name": "R",
   "language": "R",
   "name": "ir"
  },
  "language_info": {
   "codemirror_mode": {
    "name": "ipython",
    "version": 3
   },
   "file_extension": ".py",
   "mimetype": "text/x-python",
   "name": "python",
   "nbconvert_exporter": "python",
   "pygments_lexer": "ipython3",
   "version": "3.8.8"
  }
 },
 "nbformat": 4,
 "nbformat_minor": 5
}
